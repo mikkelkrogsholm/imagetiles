{
 "cells": [
  {
   "cell_type": "code",
   "execution_count": 1,
   "metadata": {},
   "outputs": [],
   "source": [
    "from PIL import Image\n",
    "Image.MAX_IMAGE_PIXELS = None\n",
    "import functions.imaging as imaging"
   ]
  },
  {
   "cell_type": "markdown",
   "metadata": {},
   "source": [
    "### Read in the image\n",
    "First you read in the image that you want as the base of your map. \n",
    "You might run into some issues if your image is very large, since PIL has a protection against that.\n",
    "\n",
    "Then we square it and slice it up."
   ]
  },
  {
   "cell_type": "code",
   "execution_count": 2,
   "metadata": {},
   "outputs": [],
   "source": [
    "image_path = \"resources/map_image.jpg\"\n",
    "im = Image.open(image_path)"
   ]
  },
  {
   "cell_type": "code",
   "execution_count": 3,
   "metadata": {},
   "outputs": [],
   "source": [
    "im_squared = imaging.resize_image(im)"
   ]
  },
  {
   "cell_type": "code",
   "execution_count": 4,
   "metadata": {},
   "outputs": [
    {
     "name": "stdout",
     "output_type": "stream",
     "text": [
      "Creating tiles for 4 zoom levels\n",
      "Creating zoom level 0\n",
      "Creating zoom level 1\n",
      "Creating zoom level 2\n",
      "Creating zoom level 3\n",
      "Creating zoom level 4\n",
      "Tiles created and placed in directory: tiles\n"
     ]
    }
   ],
   "source": [
    "imaging.create_the_tiles(im_squared)"
   ]
  },
  {
   "cell_type": "markdown",
   "metadata": {},
   "source": [
    "### Create a map from the tiles"
   ]
  },
  {
   "cell_type": "code",
   "execution_count": 5,
   "metadata": {},
   "outputs": [],
   "source": [
    "import folium"
   ]
  },
  {
   "cell_type": "code",
   "execution_count": 9,
   "metadata": {},
   "outputs": [],
   "source": [
    "tileset = 'PATH TO YOUR TILES/{z}/{x}/{y}.png'"
   ]
  },
  {
   "cell_type": "code",
   "execution_count": 7,
   "metadata": {},
   "outputs": [],
   "source": [
    "attr = \"London Poverty Map, 1898-9. Sheet 5: east central district.\""
   ]
  },
  {
   "cell_type": "code",
   "execution_count": 15,
   "metadata": {},
   "outputs": [],
   "source": [
    "m = folium.Map(\n",
    "    location = [-100, 100], \n",
    "    tiles = tileset,\n",
    "    zoom_start = 1,\n",
    "    min_zoom = 1, \n",
    "    max_zoom = 4, # Set zoom level at maximum level found when creating the tiles\n",
    "    no_wrap = True, \n",
    "    continuous_world=False,\n",
    "    crs='Simple',\n",
    "    attr=attr)"
   ]
  },
  {
   "cell_type": "markdown",
   "metadata": {},
   "source": [
    "**Be aware**: you might not be able to see your map in jupyter due to the way it reads the PATH to the tiles. You might need to create a map server or save the map as html."
   ]
  },
  {
   "cell_type": "code",
   "execution_count": 16,
   "metadata": {},
   "outputs": [],
   "source": [
    "m.save(outfile= \"my_image_map.html\")"
   ]
  },
  {
   "cell_type": "code",
   "execution_count": null,
   "metadata": {},
   "outputs": [],
   "source": [
    "style=(‘background-color: grey; color: white; font-family:’ >>> ‘courier new; font-size: 24px; padding: 10px;’)"
   ]
  }
 ],
 "metadata": {
  "kernelspec": {
   "display_name": "Python 3 (ipykernel)",
   "language": "python",
   "name": "python3"
  },
  "language_info": {
   "codemirror_mode": {
    "name": "ipython",
    "version": 3
   },
   "file_extension": ".py",
   "mimetype": "text/x-python",
   "name": "python",
   "nbconvert_exporter": "python",
   "pygments_lexer": "ipython3",
   "version": "3.10.5"
  },
  "vscode": {
   "interpreter": {
    "hash": "916dbcbb3f70747c44a77c7bcd40155683ae19c65e1c03b4aa3499c5328201f1"
   }
  }
 },
 "nbformat": 4,
 "nbformat_minor": 4
}
